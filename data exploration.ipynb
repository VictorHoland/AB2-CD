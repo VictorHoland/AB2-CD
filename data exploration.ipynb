{
  "cells": [
    {
      "attachments": {},
      "cell_type": "markdown",
      "metadata": {},
      "source": [
        "# Imports:"
      ]
    },
    {
      "cell_type": "code",
      "execution_count": 1,
      "metadata": {
        "id": "B-R2YtyQFW0y"
      },
      "outputs": [],
      "source": [
        "import numpy as np\n",
        "import pandas as pd\n",
        "import matplotlib.pyplot as plt\n",
        "from sklearn.preprocessing import StandardScaler\n",
        "from sklearn.preprocessing import LabelEncoder\n",
        "from sklearn.preprocessing import LabelEncoder\n",
        "from sklearn.cluster import KMeans\n",
        "import seaborn as sns"
      ]
    },
    {
      "cell_type": "code",
      "execution_count": 2,
      "metadata": {},
      "outputs": [],
      "source": [
        "import warnings\n",
        "warnings.filterwarnings(\"ignore\")"
      ]
    },
    {
      "attachments": {},
      "cell_type": "markdown",
      "metadata": {
        "id": "8p2_WFU4FW00"
      },
      "source": [
        "# Tratamento dos dados:"
      ]
    },
    {
      "attachments": {},
      "cell_type": "markdown",
      "metadata": {},
      "source": [
        "### Carregando a base de dados"
      ]
    },
    {
      "cell_type": "code",
      "execution_count": 3,
      "metadata": {
        "colab": {
          "base_uri": "https://localhost:8080/"
        },
        "id": "enH2JxwRFW03",
        "outputId": "79302ed5-181a-4573-bc40-675c73866c34"
      },
      "outputs": [
        {
          "data": {
            "text/plain": [
              "(119390, 32)"
            ]
          },
          "execution_count": 3,
          "metadata": {},
          "output_type": "execute_result"
        }
      ],
      "source": [
        "hotel_bookings = pd.read_csv('hotel_bookings.csv')\n",
        "hotel_bookings.shape"
      ]
    },
    {
      "attachments": {},
      "cell_type": "markdown",
      "metadata": {},
      "source": [
        "### Tratando os valores `Nan`."
      ]
    },
    {
      "cell_type": "code",
      "execution_count": 4,
      "metadata": {},
      "outputs": [
        {
          "data": {
            "text/plain": [
              "(119390, 32)"
            ]
          },
          "execution_count": 4,
          "metadata": {},
          "output_type": "execute_result"
        }
      ],
      "source": [
        "hotel_bookings['children'] = hotel_bookings['children'].replace(np.nan, 0)\n",
        "hotel_bookings['country'] = hotel_bookings['country'].replace(np.nan, 'PRT')\n",
        "hotel_bookings['agent'] = hotel_bookings['agent'].replace(np.nan, 0)\n",
        "\n",
        "hotel_bookings.shape"
      ]
    },
    {
      "cell_type": "code",
      "execution_count": 5,
      "metadata": {},
      "outputs": [
        {
          "data": {
            "text/plain": [
              "hotel                                  0\n",
              "is_canceled                            0\n",
              "lead_time                              0\n",
              "arrival_date_year                      0\n",
              "arrival_date_month                     0\n",
              "arrival_date_week_number               0\n",
              "arrival_date_day_of_month              0\n",
              "stays_in_weekend_nights                0\n",
              "stays_in_week_nights                   0\n",
              "adults                                 0\n",
              "children                               0\n",
              "babies                                 0\n",
              "meal                                   0\n",
              "country                                0\n",
              "market_segment                         0\n",
              "distribution_channel                   0\n",
              "is_repeated_guest                      0\n",
              "previous_cancellations                 0\n",
              "previous_bookings_not_canceled         0\n",
              "reserved_room_type                     0\n",
              "assigned_room_type                     0\n",
              "booking_changes                        0\n",
              "deposit_type                           0\n",
              "agent                                  0\n",
              "company                           112593\n",
              "days_in_waiting_list                   0\n",
              "customer_type                          0\n",
              "adr                                    0\n",
              "required_car_parking_spaces            0\n",
              "total_of_special_requests              0\n",
              "reservation_status                     0\n",
              "reservation_status_date                0\n",
              "dtype: int64"
            ]
          },
          "execution_count": 5,
          "metadata": {},
          "output_type": "execute_result"
        }
      ],
      "source": [
        "hotel_bookings.isnull().sum()"
      ]
    },
    {
      "attachments": {},
      "cell_type": "markdown",
      "metadata": {},
      "source": [
        "### Separando as colunas que contém string nos dataframes e transformando em inteiros"
      ]
    },
    {
      "cell_type": "code",
      "execution_count": 6,
      "metadata": {},
      "outputs": [],
      "source": [
        "hotel = hotel_bookings.iloc[:, 0].values\n",
        "arrival_date_month = hotel_bookings.iloc[:, 4].values\n",
        "meal = hotel_bookings.iloc[:, 12].values\n",
        "country = hotel_bookings.iloc[:, 13].values\n",
        "market_segment = hotel_bookings.iloc[:, 14].values\n",
        "distribution_channel = hotel_bookings.iloc[:, 15].values\n",
        "reserved_room_type = hotel_bookings.iloc[:, 19].values\n",
        "assigned_room_type = hotel_bookings.iloc[:, 20].values\n",
        "deposit_type = hotel_bookings.iloc[:, 22].values\n",
        "customer_type = hotel_bookings.iloc[:, 26].values\n",
        "reservation_status = hotel_bookings.iloc[:, 30].values"
      ]
    },
    {
      "cell_type": "code",
      "execution_count": 7,
      "metadata": {},
      "outputs": [],
      "source": [
        "hotel = LabelEncoder().fit_transform(hotel)\n",
        "arrival_date_month = LabelEncoder().fit_transform(arrival_date_month) \n",
        "meal = LabelEncoder().fit_transform(meal)\n",
        "country = LabelEncoder().fit_transform(country)\n",
        "market_segment = LabelEncoder().fit_transform(market_segment)\n",
        "distribution_channel = LabelEncoder().fit_transform(distribution_channel)\n",
        "reserved_room_type = LabelEncoder().fit_transform(reserved_room_type)\n",
        "assigned_room_type = LabelEncoder().fit_transform(assigned_room_type)\n",
        "deposit_type = LabelEncoder().fit_transform(deposit_type)\n",
        "customer_type = LabelEncoder().fit_transform(customer_type)\n",
        "reservation_status = LabelEncoder().fit_transform(reservation_status)"
      ]
    },
    {
      "cell_type": "code",
      "execution_count": 8,
      "metadata": {},
      "outputs": [],
      "source": [
        "hotel = pd.DataFrame(hotel, columns = ['hotel'])\n",
        "arrival_date_month = pd.DataFrame(arrival_date_month, columns = ['arrival_date_mounth'])\n",
        "meal = pd.DataFrame(meal, columns = ['meal'])\n",
        "country = pd.DataFrame(country, columns = ['country'])\n",
        "market_segment = pd.DataFrame(market_segment, columns = ['market_segment'])\n",
        "distribution_channel = pd.DataFrame(distribution_channel, columns = ['distribution_channel'])\n",
        "reserved_room_type = pd.DataFrame(assigned_room_type, columns = ['reserved_room_type'])\n",
        "assigned_room_type = pd.DataFrame(assigned_room_type, columns = ['assingned_room'])\n",
        "deposit_type = pd.DataFrame(deposit_type, columns = ['deposit_type'])\n",
        "customer_type = pd.DataFrame(customer_type, columns = ['custumer_type'])\n",
        "reservation_status = pd.DataFrame(reservation_status, columns = ['reservation_status'])"
      ]
    },
    {
      "cell_type": "code",
      "execution_count": 9,
      "metadata": {},
      "outputs": [],
      "source": [
        "hotel_bookings['distribution_channel'] = pd.to_numeric(hotel_bookings['distribution_channel'], errors='coerce').fillna(0)\n",
        "hotel_bookings['reserved_room_type'] = pd.to_numeric(hotel_bookings['reserved_room_type'], errors='coerce').fillna(0)"
      ]
    },
    {
      "cell_type": "code",
      "execution_count": 10,
      "metadata": {},
      "outputs": [],
      "source": [
        "hotel_bookings = hotel_bookings.drop([\"hotel\"], axis=1)\n",
        "hotel_bookings = hotel_bookings.drop([\"arrival_date_month\"], axis=1)\n",
        "hotel_bookings = hotel_bookings.drop([\"meal\"], axis=1)\n",
        "hotel_bookings = hotel_bookings.drop([\"country\"], axis=1)\n",
        "hotel_bookings = hotel_bookings.drop([\"market_segment\"], axis=1)\n",
        "hotel_bookings = hotel_bookings.drop([\"distribution_channel\"], axis=1)\n",
        "hotel_bookings = hotel_bookings.drop([\"reserved_room_type\"], axis=1)\n",
        "hotel_bookings = hotel_bookings.drop([\"assigned_room_type\"], axis=1)\n",
        "hotel_bookings = hotel_bookings.drop([\"deposit_type\"], axis=1)\n",
        "hotel_bookings = hotel_bookings.drop([\"customer_type\"], axis=1)\n",
        "hotel_bookings = hotel_bookings.drop([\"reservation_status\"], axis=1)\n",
        "hotel_bookings = hotel_bookings.drop([\"reservation_status_date\"], axis=1)\n",
        "hotel_bookings = hotel_bookings.drop([\"company\"], axis=1)\n",
        "hotel_bookings = hotel_bookings.drop([\"arrival_date_day_of_month\"], axis=1)\n",
        "\n",
        "hotel_bookings = pd.concat([hotel_bookings, hotel],axis=1)\n",
        "hotel_bookings = pd.concat([hotel_bookings, arrival_date_month],axis=1)\n",
        "hotel_bookings = pd.concat([hotel_bookings, meal],axis=1)\n",
        "hotel_bookings = pd.concat([hotel_bookings, country],axis=1)\n",
        "hotel_bookings = pd.concat([hotel_bookings, market_segment],axis=1)\n",
        "hotel_bookings = pd.concat([hotel_bookings, distribution_channel],axis=1)\n",
        "hotel_bookings = pd.concat([hotel_bookings, reserved_room_type],axis=1)\n",
        "hotel_bookings = pd.concat([hotel_bookings, assigned_room_type],axis=1)\n",
        "hotel_bookings = pd.concat([hotel_bookings, deposit_type],axis=1)\n",
        "hotel_bookings = pd.concat([hotel_bookings, customer_type],axis=1)\n",
        "hotel_bookings = pd.concat([hotel_bookings, reservation_status],axis=1)"
      ]
    },
    {
      "cell_type": "code",
      "execution_count": 11,
      "metadata": {},
      "outputs": [
        {
          "data": {
            "text/plain": [
              "is_canceled                         int64\n",
              "lead_time                           int64\n",
              "arrival_date_year                   int64\n",
              "arrival_date_week_number            int64\n",
              "stays_in_weekend_nights             int64\n",
              "stays_in_week_nights                int64\n",
              "adults                              int64\n",
              "children                          float64\n",
              "babies                              int64\n",
              "is_repeated_guest                   int64\n",
              "previous_cancellations              int64\n",
              "previous_bookings_not_canceled      int64\n",
              "booking_changes                     int64\n",
              "agent                             float64\n",
              "days_in_waiting_list                int64\n",
              "adr                               float64\n",
              "required_car_parking_spaces         int64\n",
              "total_of_special_requests           int64\n",
              "hotel                               int32\n",
              "arrival_date_mounth                 int32\n",
              "meal                                int32\n",
              "country                             int32\n",
              "market_segment                      int32\n",
              "distribution_channel                int32\n",
              "reserved_room_type                  int32\n",
              "assingned_room                      int32\n",
              "deposit_type                        int32\n",
              "custumer_type                       int32\n",
              "reservation_status                  int32\n",
              "dtype: object"
            ]
          },
          "execution_count": 11,
          "metadata": {},
          "output_type": "execute_result"
        }
      ],
      "source": [
        "hotel_bookings.dtypes"
      ]
    },
    {
      "cell_type": "code",
      "execution_count": 12,
      "metadata": {},
      "outputs": [],
      "source": [
        "filtro_resort = (hotel_bookings.hotel == 0)\n",
        "filtro_city = (hotel_bookings.hotel == 1)\n",
        "\n",
        "hotel_bookings_resort = hotel_bookings[filtro_resort]\n",
        "hotel_bookings_city = hotel_bookings[filtro_city]"
      ]
    },
    {
      "cell_type": "code",
      "execution_count": 38,
      "metadata": {},
      "outputs": [],
      "source": [
        "escala = StandardScaler()\n",
        "\n",
        "df_resort_esc = escala.fit_transform(hotel_bookings_resort)\n",
        "df_city_esc = escala.fit_transform(hotel_bookings_city)\n",
        "\n",
        "for tupla in range(len(df_city_esc)):\n",
        "    df_city_esc[tupla][18] = 1"
      ]
    },
    {
      "attachments": {},
      "cell_type": "markdown",
      "metadata": {},
      "source": [
        "# Apredizado:"
      ]
    },
    {
      "cell_type": "code",
      "execution_count": 14,
      "metadata": {},
      "outputs": [],
      "source": [
        "wcss_resort = []\n",
        "wcss_city = []\n",
        "\n",
        "for i in range(1,24):\n",
        "    kmeans_r = KMeans(n_clusters = i, init = 'k-means++', random_state = 5, max_iter = 300)\n",
        "    kmeans_r.fit(df_resort_esc)\n",
        "#Método inertia para gerar o wcss\n",
        "    wcss_resort.append(kmeans_r.inertia_)\n",
        "\n",
        "for i in range(1,24):\n",
        "    kmeans_c = KMeans(n_clusters = i, init = 'k-means++', random_state = 5, max_iter = 300)\n",
        "    kmeans_c.fit(df_city_esc)\n",
        "#Método inertia para gerar o wcss\n",
        "    wcss_city.append(kmeans_c.inertia_)"
      ]
    },
    {
      "cell_type": "code",
      "execution_count": 15,
      "metadata": {},
      "outputs": [
        {
          "data": {
            "image/png": "[encoded data removed]",
            "text/plain": [
              "<Figure size 1500x500 with 2 Axes>"
            ]
          },
          "metadata": {},
          "output_type": "display_data"
        }
      ],
      "source": [
        "fig, axs = plt.subplots(ncols=2, figsize=(15, 5))\n",
        "\n",
        "# plot first line plot on first subplot\n",
        "sns.lineplot(x=range(1, 24), y=wcss_resort, marker='o', color='b', ax=axs[0])\n",
        "axs[0].set_title('The Elbow Method: Resort')\n",
        "axs[0].set_xlabel('Número de clusters')\n",
        "axs[0].set_ylabel('WCSS')\n",
        "\n",
        "sns.lineplot(x=range(1, 24), y=wcss_city, marker='o', color='red', ax=axs[1])\n",
        "axs[1].set_title('The Elbow Method: City')\n",
        "axs[1].set_xlabel('Número de clusters')\n",
        "axs[1].set_ylabel('WCSS')\n",
        "\n",
        "plt.tight_layout()\n",
        "\n",
        "plt.show()"
      ]
    },
    {
      "cell_type": "code",
      "execution_count": 16,
      "metadata": {},
      "outputs": [],
      "source": [
        "kmeans = KMeans(n_clusters = 7, init = 'k-means++', random_state = 5, max_iter = 300)"
      ]
    },
    {
      "cell_type": "code",
      "execution_count": 17,
      "metadata": {},
      "outputs": [],
      "source": [
        "#Fazendo apenas com 4 clusters\n",
        "kmeans_resort = kmeans.fit(df_resort_esc)\n",
        "kmeans_city = kmeans.fit(df_city_esc)"
      ]
    },
    {
      "cell_type": "code",
      "execution_count": 18,
      "metadata": {},
      "outputs": [
        {
          "data": {
            "text/plain": [
              "array([[ 9.01016586e-01,  1.83673087e+02,  2.01588550e+03,\n",
              "         2.60438737e+01,  1.06795078e+00,  2.83306581e+00,\n",
              "         1.87586945e+00,  2.14018192e-03,  8.67361738e-17,\n",
              "         2.14018192e-03,  1.76083467e+00,  2.14018192e-03,\n",
              "         8.34670947e-02,  1.14768325e+02,  8.80149813e-01,\n",
              "         6.56034778e+01,  1.01658641e-02,  7.49063670e-03,\n",
              "         2.00000000e+00,  6.26591760e+00,  1.00588550e+00,\n",
              "         1.18628678e+02,  4.08293205e+00,  2.22525415e+00,\n",
              "         5.39325843e-01,  5.39325843e-01,  1.06313537e+00,\n",
              "         2.12199037e+00,  1.13964687e-01],\n",
              "       [ 4.24561404e-01,  9.29953216e+01,  2.01631579e+03,\n",
              "         2.79664717e+01,  1.33762183e+00,  3.40116959e+00,\n",
              "         2.13489279e+00,  1.62573099e+00,  2.49512671e-02,\n",
              "         4.28849903e-03,  7.40740741e-03,  1.09161793e-02,\n",
              "         3.84405458e-01,  2.24351657e+02,  3.89863548e-04,\n",
              "         1.85276881e+02,  2.06627680e-01,  6.56920078e-01,\n",
              "         2.00000000e+00,  4.31267057e+00,  5.31773879e-01,\n",
              "         9.47863548e+01,  5.36998051e+00,  2.60974659e+00,\n",
              "         5.12280702e+00,  5.12280702e+00,  1.16959064e-03,\n",
              "         2.04210526e+00,  5.90253411e-01],\n",
              "       [ 5.12396694e-02,  1.98380165e+01,  2.01638292e+03,\n",
              "         2.17763085e+01,  4.82644628e-01,  1.50027548e+00,\n",
              "         1.43250689e+00,  2.53443526e-02,  2.20385675e-03,\n",
              "         9.49862259e-01,  1.41046832e-01,  2.62809917e+00,\n",
              "         2.84848485e-01,  7.36628099e+01,  1.54820937e-01,\n",
              "         6.30743857e+01,  2.33608815e-01,  6.20385675e-01,\n",
              "         2.00000000e+00,  4.89586777e+00,  2.14325069e-01,\n",
              "         1.25456198e+02,  3.40110193e+00,  1.29917355e+00,\n",
              "         2.26556474e+00,  2.26556474e+00,  1.10192837e-03,\n",
              "         2.03581267e+00,  9.58677686e-01],\n",
              "       [ 8.00844301e-02,  5.55155202e+01,  2.01604234e+03,\n",
              "         2.73491433e+01,  7.29699528e-01,  2.24335734e+00,\n",
              "         1.71095108e+00,  3.57586293e-02,  1.67618575e-02,\n",
              "        -7.00828284e-16,  8.93965731e-03,  9.92053638e-02,\n",
              "         5.12043705e-01,  7.26333499e+01,  9.47851999e-01,\n",
              "         8.38799988e+01,  2.19145766e-01,  3.56344673e-01,\n",
              "         2.00000000e+00,  5.72659548e+00,  3.86764341e-01,\n",
              "         1.06666501e+02,  2.96746958e+00,  7.80481748e-01,\n",
              "         2.36615346e+00,  2.36615346e+00,  3.72485721e-04,\n",
              "         2.30084430e+00,  9.43754656e-01],\n",
              "       [ 1.00000000e+00,  1.25239626e+02,  2.01621242e+03,\n",
              "         2.78966749e+01,  1.35064578e+00,  3.49587799e+00,\n",
              "         1.93624622e+00,  2.84418796e-02,  1.19538335e-02,\n",
              "         2.61060731e-03,  5.67463589e-02,  1.09920308e-03,\n",
              "         1.64193460e-01,  2.22925941e+02,  1.21736741e-01,\n",
              "         1.07502236e+02,  3.58046925e-15,  6.32179170e-01,\n",
              "         2.00000000e+00,  4.99780159e+00,  5.55509755e-01,\n",
              "         1.08845837e+02,  5.43308601e+00,  2.79705963e+00,\n",
              "         1.52184666e+00,  1.52184666e+00,  1.17961196e-15,\n",
              "         2.13575158e+00, -3.54161145e-14],\n",
              "       [ 8.94258994e-03,  7.38328896e+01,  2.01608567e+03,\n",
              "         2.69324869e+01,  9.89555601e-01,  2.57922042e+00,\n",
              "         1.87371152e+00,  2.31415114e-02,  1.58372585e-02,\n",
              "         9.08995101e-16,  4.77848317e-04,  1.43354495e-02,\n",
              "         2.41518192e-01,  2.21761349e+02,  7.09331695e-01,\n",
              "         8.87360755e+01,  1.80967984e-01,  8.38009420e-01,\n",
              "         2.00000000e+00,  5.16547205e+00,  5.44200969e-01,\n",
              "         8.38832002e+01,  5.54433750e+00,  2.98593761e+00,\n",
              "         2.00505154e+00,  2.00505154e+00,  2.73056181e-04,\n",
              "         2.22684142e+00,  1.00894259e+00],\n",
              "       [ 5.27415144e-02,  1.70906005e+02,  2.01611279e+03,\n",
              "         2.85882507e+01,  2.91331593e+00,  7.12819843e+00,\n",
              "         2.06161880e+00,  2.63707572e-02,  9.13838120e-03,\n",
              "         5.22193211e-03,  4.43864230e-03,  1.25326371e-02,\n",
              "         2.66318538e-01,  1.43652480e+02,  7.93733681e-02,\n",
              "         8.71072324e+01,  3.70757180e-02,  5.89033943e-01,\n",
              "         2.00000000e+00,  6.02532637e+00,  7.87728460e-01,\n",
              "         7.19177546e+01,  5.01227154e+00,  2.88485640e+00,\n",
              "         2.11331593e+00,  2.11331593e+00,  1.04438642e-03,\n",
              "         1.16971279e+00,  9.58746736e-01]])"
            ]
          },
          "execution_count": 18,
          "metadata": {},
          "output_type": "execute_result"
        }
      ],
      "source": [
        "# Inversão do escalonamento dos centroides\n",
        "escala.inverse_transform(kmeans_resort.cluster_centers_)\n",
        "escala.inverse_transform(kmeans_city.cluster_centers_)"
      ]
    },
    {
      "cell_type": "code",
      "execution_count": 19,
      "metadata": {},
      "outputs": [],
      "source": [
        "#Verificando a classificação dos dados\n",
        "classificacao_resort = kmeans_resort.labels_\n",
        "classificacao_city = kmeans_city.labels_"
      ]
    },
    {
      "cell_type": "code",
      "execution_count": 20,
      "metadata": {},
      "outputs": [],
      "source": [
        "agrupamento_resort = pd.DataFrame(classificacao_resort, columns = ['Grupo'])\n",
        "agrupamento_city = pd.DataFrame(classificacao_city, columns = ['Grupo'])"
      ]
    },
    {
      "cell_type": "code",
      "execution_count": 21,
      "metadata": {},
      "outputs": [],
      "source": [
        "df_grupo_resort = pd.concat([hotel_bookings, agrupamento_resort],axis=1)\n",
        "df_grupo_city = pd.concat([hotel_bookings, agrupamento_city],axis=1)"
      ]
    },
    {
      "cell_type": "code",
      "execution_count": 22,
      "metadata": {},
      "outputs": [],
      "source": [
        "#Localizando pelo grupo\n",
        "#print(df_grupo.loc[df_grupo.Grupo == 0])\n",
        "mean_resort = df_grupo_resort.loc[df_grupo_resort.Grupo == 0].mean()\n",
        "mean_city = df_grupo_city.loc[df_grupo_city.Grupo == 0].mean()"
      ]
    },
    {
      "attachments": {},
      "cell_type": "markdown",
      "metadata": {},
      "source": [
        "### Clusters Hotel Resort:"
      ]
    },
    {
      "cell_type": "code",
      "execution_count": 23,
      "metadata": {},
      "outputs": [
        {
          "name": "stdout",
          "output_type": "stream",
          "text": [
            "is_canceled                          0.901017\n",
            "lead_time                          183.673087\n",
            "arrival_date_year                 2015.885500\n",
            "arrival_date_week_number            26.043874\n",
            "stays_in_weekend_nights              1.067951\n",
            "stays_in_week_nights                 2.833066\n",
            "adults                               1.875869\n",
            "children                             0.002140\n",
            "babies                               0.000000\n",
            "is_repeated_guest                    0.002140\n",
            "previous_cancellations               1.760835\n",
            "previous_bookings_not_canceled       0.002140\n",
            "booking_changes                      0.083467\n",
            "agent                              114.768325\n",
            "days_in_waiting_list                 0.880150\n",
            "adr                                 65.603478\n",
            "required_car_parking_spaces          0.010166\n",
            "total_of_special_requests            0.007491\n",
            "hotel                                1.000000\n",
            "arrival_date_mounth                  6.265918\n",
            "meal                                 1.005886\n",
            "country                            118.628678\n",
            "market_segment                       4.082932\n",
            "distribution_channel                 2.225254\n",
            "reserved_room_type                   0.539326\n",
            "assingned_room                       0.539326\n",
            "deposit_type                         1.063135\n",
            "custumer_type                        2.121990\n",
            "reservation_status                   0.113965\n",
            "Grupo                                0.000000\n",
            "dtype: float64\n"
          ]
        }
      ],
      "source": [
        "mean_resort = df_grupo_resort.loc[df_grupo_resort.Grupo == 0].mean()\n",
        "print(mean_resort)"
      ]
    },
    {
      "cell_type": "code",
      "execution_count": 24,
      "metadata": {},
      "outputs": [
        {
          "name": "stdout",
          "output_type": "stream",
          "text": [
            "is_canceled                          0.424561\n",
            "lead_time                           92.995322\n",
            "arrival_date_year                 2016.315789\n",
            "arrival_date_week_number            27.966472\n",
            "stays_in_weekend_nights              1.337622\n",
            "stays_in_week_nights                 3.401170\n",
            "adults                               2.134893\n",
            "children                             1.625731\n",
            "babies                               0.024951\n",
            "is_repeated_guest                    0.004288\n",
            "previous_cancellations               0.007407\n",
            "previous_bookings_not_canceled       0.010916\n",
            "booking_changes                      0.384405\n",
            "agent                              224.351657\n",
            "days_in_waiting_list                 0.000390\n",
            "adr                                185.276881\n",
            "required_car_parking_spaces          0.206628\n",
            "total_of_special_requests            0.656920\n",
            "hotel                                1.000000\n",
            "arrival_date_mounth                  4.312671\n",
            "meal                                 0.531774\n",
            "country                             94.786355\n",
            "market_segment                       5.369981\n",
            "distribution_channel                 2.609747\n",
            "reserved_room_type                   5.122807\n",
            "assingned_room                       5.122807\n",
            "deposit_type                         0.001170\n",
            "custumer_type                        2.042105\n",
            "reservation_status                   0.590253\n",
            "Grupo                                1.000000\n",
            "dtype: float64\n"
          ]
        }
      ],
      "source": [
        "mean_resort = df_grupo_resort.loc[df_grupo_resort.Grupo == 1].mean()\n",
        "print(mean_resort)"
      ]
    },
    {
      "cell_type": "code",
      "execution_count": 25,
      "metadata": {},
      "outputs": [
        {
          "name": "stdout",
          "output_type": "stream",
          "text": [
            "is_canceled                          0.051240\n",
            "lead_time                           19.838017\n",
            "arrival_date_year                 2016.382920\n",
            "arrival_date_week_number            21.776309\n",
            "stays_in_weekend_nights              0.482645\n",
            "stays_in_week_nights                 1.500275\n",
            "adults                               1.432507\n",
            "children                             0.025344\n",
            "babies                               0.002204\n",
            "is_repeated_guest                    0.949862\n",
            "previous_cancellations               0.141047\n",
            "previous_bookings_not_canceled       2.628099\n",
            "booking_changes                      0.284848\n",
            "agent                               73.662810\n",
            "days_in_waiting_list                 0.154821\n",
            "adr                                 63.074386\n",
            "required_car_parking_spaces          0.233609\n",
            "total_of_special_requests            0.620386\n",
            "hotel                                1.000000\n",
            "arrival_date_mounth                  4.895868\n",
            "meal                                 0.214325\n",
            "country                            125.456198\n",
            "market_segment                       3.401102\n",
            "distribution_channel                 1.299174\n",
            "reserved_room_type                   2.265565\n",
            "assingned_room                       2.265565\n",
            "deposit_type                         0.001102\n",
            "custumer_type                        2.035813\n",
            "reservation_status                   0.958678\n",
            "Grupo                                2.000000\n",
            "dtype: float64\n"
          ]
        }
      ],
      "source": [
        "mean_resort = df_grupo_resort.loc[df_grupo_resort.Grupo == 2].mean()\n",
        "print(mean_resort)"
      ]
    },
    {
      "cell_type": "code",
      "execution_count": 26,
      "metadata": {},
      "outputs": [
        {
          "name": "stdout",
          "output_type": "stream",
          "text": [
            "is_canceled                          0.080094\n",
            "lead_time                           55.503787\n",
            "arrival_date_year                 2016.042344\n",
            "arrival_date_week_number            27.348814\n",
            "stays_in_weekend_nights              0.729542\n",
            "stays_in_week_nights                 2.243015\n",
            "adults                               1.710915\n",
            "children                             0.035763\n",
            "babies                               0.016764\n",
            "is_repeated_guest                    0.000000\n",
            "previous_cancellations               0.008941\n",
            "previous_bookings_not_canceled       0.099218\n",
            "booking_changes                      0.511983\n",
            "agent                               72.611325\n",
            "days_in_waiting_list                 0.947970\n",
            "adr                                 83.870360\n",
            "required_car_parking_spaces          0.219173\n",
            "total_of_special_requests            0.356265\n",
            "hotel                                1.000000\n",
            "arrival_date_mounth                  5.726686\n",
            "meal                                 0.386564\n",
            "country                            106.673414\n",
            "market_segment                       2.967466\n",
            "distribution_channel                 0.780454\n",
            "reserved_room_type                   2.366447\n",
            "assingned_room                       2.366447\n",
            "deposit_type                         0.000373\n",
            "custumer_type                        2.300882\n",
            "reservation_status                   0.943748\n",
            "Grupo                                3.000000\n",
            "dtype: float64\n"
          ]
        }
      ],
      "source": [
        "mean_resort = df_grupo_resort.loc[df_grupo_resort.Grupo == 3].mean()\n",
        "print(mean_resort)"
      ]
    },
    {
      "cell_type": "code",
      "execution_count": 27,
      "metadata": {},
      "outputs": [
        {
          "name": "stdout",
          "output_type": "stream",
          "text": [
            "is_canceled                          1.000000\n",
            "lead_time                          125.239626\n",
            "arrival_date_year                 2016.212421\n",
            "arrival_date_week_number            27.896675\n",
            "stays_in_weekend_nights              1.350646\n",
            "stays_in_week_nights                 3.495878\n",
            "adults                               1.936246\n",
            "children                             0.028442\n",
            "babies                               0.011954\n",
            "is_repeated_guest                    0.002611\n",
            "previous_cancellations               0.056746\n",
            "previous_bookings_not_canceled       0.001099\n",
            "booking_changes                      0.164193\n",
            "agent                              222.925941\n",
            "days_in_waiting_list                 0.121737\n",
            "adr                                107.502236\n",
            "required_car_parking_spaces          0.000000\n",
            "total_of_special_requests            0.632179\n",
            "hotel                                1.000000\n",
            "arrival_date_mounth                  4.997802\n",
            "meal                                 0.555510\n",
            "country                            108.845837\n",
            "market_segment                       5.433086\n",
            "distribution_channel                 2.797060\n",
            "reserved_room_type                   1.521847\n",
            "assingned_room                       1.521847\n",
            "deposit_type                         0.000000\n",
            "custumer_type                        2.135752\n",
            "reservation_status                   0.000000\n",
            "Grupo                                4.000000\n",
            "dtype: float64\n"
          ]
        }
      ],
      "source": [
        "mean_resort = df_grupo_resort.loc[df_grupo_resort.Grupo == 4].mean()\n",
        "print(mean_resort)"
      ]
    },
    {
      "cell_type": "code",
      "execution_count": 28,
      "metadata": {},
      "outputs": [
        {
          "name": "stdout",
          "output_type": "stream",
          "text": [
            "is_canceled                          0.008953\n",
            "lead_time                           73.775560\n",
            "arrival_date_year                 2016.085703\n",
            "arrival_date_week_number            26.930495\n",
            "stays_in_weekend_nights              0.988313\n",
            "stays_in_week_nights                 2.576134\n",
            "adults                               1.873565\n",
            "children                             0.023100\n",
            "babies                               0.015787\n",
            "is_repeated_guest                    0.000000\n",
            "previous_cancellations               0.000478\n",
            "previous_bookings_not_canceled       0.014352\n",
            "booking_changes                      0.241457\n",
            "agent                              221.828458\n",
            "days_in_waiting_list                 0.710156\n",
            "adr                                 88.728824\n",
            "required_car_parking_spaces          0.181042\n",
            "total_of_special_requests            0.838163\n",
            "hotel                                1.000000\n",
            "arrival_date_mounth                  5.162794\n",
            "meal                                 0.543945\n",
            "country                             83.910880\n",
            "market_segment                       5.544697\n",
            "distribution_channel                 2.985921\n",
            "reserved_room_type                   2.003759\n",
            "assingned_room                       2.003759\n",
            "deposit_type                         0.000273\n",
            "custumer_type                        2.227105\n",
            "reservation_status                   1.008953\n",
            "Grupo                                5.000000\n",
            "dtype: float64\n"
          ]
        }
      ],
      "source": [
        "mean_resort = df_grupo_resort.loc[df_grupo_resort.Grupo == 5].mean()\n",
        "print(mean_resort)"
      ]
    },
    {
      "cell_type": "code",
      "execution_count": 29,
      "metadata": {},
      "outputs": [
        {
          "name": "stdout",
          "output_type": "stream",
          "text": [
            "is_canceled                          0.052495\n",
            "lead_time                          170.689709\n",
            "arrival_date_year                 2016.112526\n",
            "arrival_date_week_number            28.588877\n",
            "stays_in_weekend_nights              2.909304\n",
            "stays_in_week_nights                 7.119283\n",
            "adults                               2.061331\n",
            "children                             0.026507\n",
            "babies                               0.009356\n",
            "is_repeated_guest                    0.005198\n",
            "previous_cancellations               0.004418\n",
            "previous_bookings_not_canceled       0.012474\n",
            "booking_changes                      0.266632\n",
            "agent                              143.770010\n",
            "days_in_waiting_list                 0.079002\n",
            "adr                                 87.161333\n",
            "required_car_parking_spaces          0.037422\n",
            "total_of_special_requests            0.589657\n",
            "hotel                                1.000000\n",
            "arrival_date_mounth                  6.031445\n",
            "meal                                 0.787942\n",
            "country                             71.859927\n",
            "market_segment                       5.012734\n",
            "distribution_channel                 2.884875\n",
            "reserved_room_type                   2.117204\n",
            "assingned_room                       2.117204\n",
            "deposit_type                         0.001040\n",
            "custumer_type                        1.173597\n",
            "reservation_status                   0.958940\n",
            "Grupo                                6.000000\n",
            "dtype: float64\n"
          ]
        }
      ],
      "source": [
        "mean_resort = df_grupo_resort.loc[df_grupo_resort.Grupo == 6].mean()\n",
        "print(mean_resort)"
      ]
    },
    {
      "attachments": {},
      "cell_type": "markdown",
      "metadata": {},
      "source": [
        "### Clusters Hotel city:"
      ]
    },
    {
      "cell_type": "code",
      "execution_count": 30,
      "metadata": {},
      "outputs": [
        {
          "name": "stdout",
          "output_type": "stream",
          "text": [
            "is_canceled                          0.901017\n",
            "lead_time                          183.673087\n",
            "arrival_date_year                 2015.885500\n",
            "arrival_date_week_number            26.043874\n",
            "stays_in_weekend_nights              1.067951\n",
            "stays_in_week_nights                 2.833066\n",
            "adults                               1.875869\n",
            "children                             0.002140\n",
            "babies                               0.000000\n",
            "is_repeated_guest                    0.002140\n",
            "previous_cancellations               1.760835\n",
            "previous_bookings_not_canceled       0.002140\n",
            "booking_changes                      0.083467\n",
            "agent                              114.768325\n",
            "days_in_waiting_list                 0.880150\n",
            "adr                                 65.603478\n",
            "required_car_parking_spaces          0.010166\n",
            "total_of_special_requests            0.007491\n",
            "hotel                                1.000000\n",
            "arrival_date_mounth                  6.265918\n",
            "meal                                 1.005886\n",
            "country                            118.628678\n",
            "market_segment                       4.082932\n",
            "distribution_channel                 2.225254\n",
            "reserved_room_type                   0.539326\n",
            "assingned_room                       0.539326\n",
            "deposit_type                         1.063135\n",
            "custumer_type                        2.121990\n",
            "reservation_status                   0.113965\n",
            "Grupo                                0.000000\n",
            "dtype: float64\n"
          ]
        }
      ],
      "source": [
        "mean_city = df_grupo_city.loc[df_grupo_city.Grupo == 0].mean()\n",
        "print(mean_city)"
      ]
    },
    {
      "cell_type": "code",
      "execution_count": 31,
      "metadata": {},
      "outputs": [
        {
          "name": "stdout",
          "output_type": "stream",
          "text": [
            "is_canceled                          0.424561\n",
            "lead_time                           92.995322\n",
            "arrival_date_year                 2016.315789\n",
            "arrival_date_week_number            27.966472\n",
            "stays_in_weekend_nights              1.337622\n",
            "stays_in_week_nights                 3.401170\n",
            "adults                               2.134893\n",
            "children                             1.625731\n",
            "babies                               0.024951\n",
            "is_repeated_guest                    0.004288\n",
            "previous_cancellations               0.007407\n",
            "previous_bookings_not_canceled       0.010916\n",
            "booking_changes                      0.384405\n",
            "agent                              224.351657\n",
            "days_in_waiting_list                 0.000390\n",
            "adr                                185.276881\n",
            "required_car_parking_spaces          0.206628\n",
            "total_of_special_requests            0.656920\n",
            "hotel                                1.000000\n",
            "arrival_date_mounth                  4.312671\n",
            "meal                                 0.531774\n",
            "country                             94.786355\n",
            "market_segment                       5.369981\n",
            "distribution_channel                 2.609747\n",
            "reserved_room_type                   5.122807\n",
            "assingned_room                       5.122807\n",
            "deposit_type                         0.001170\n",
            "custumer_type                        2.042105\n",
            "reservation_status                   0.590253\n",
            "Grupo                                1.000000\n",
            "dtype: float64\n"
          ]
        }
      ],
      "source": [
        "mean_city = df_grupo_city.loc[df_grupo_city.Grupo == 1].mean()\n",
        "print(mean_city)"
      ]
    },
    {
      "cell_type": "code",
      "execution_count": 32,
      "metadata": {},
      "outputs": [
        {
          "name": "stdout",
          "output_type": "stream",
          "text": [
            "is_canceled                          0.051240\n",
            "lead_time                           19.838017\n",
            "arrival_date_year                 2016.382920\n",
            "arrival_date_week_number            21.776309\n",
            "stays_in_weekend_nights              0.482645\n",
            "stays_in_week_nights                 1.500275\n",
            "adults                               1.432507\n",
            "children                             0.025344\n",
            "babies                               0.002204\n",
            "is_repeated_guest                    0.949862\n",
            "previous_cancellations               0.141047\n",
            "previous_bookings_not_canceled       2.628099\n",
            "booking_changes                      0.284848\n",
            "agent                               73.662810\n",
            "days_in_waiting_list                 0.154821\n",
            "adr                                 63.074386\n",
            "required_car_parking_spaces          0.233609\n",
            "total_of_special_requests            0.620386\n",
            "hotel                                1.000000\n",
            "arrival_date_mounth                  4.895868\n",
            "meal                                 0.214325\n",
            "country                            125.456198\n",
            "market_segment                       3.401102\n",
            "distribution_channel                 1.299174\n",
            "reserved_room_type                   2.265565\n",
            "assingned_room                       2.265565\n",
            "deposit_type                         0.001102\n",
            "custumer_type                        2.035813\n",
            "reservation_status                   0.958678\n",
            "Grupo                                2.000000\n",
            "dtype: float64\n"
          ]
        }
      ],
      "source": [
        "mean_city = df_grupo_city.loc[df_grupo_city.Grupo == 2].mean()\n",
        "print(mean_city)"
      ]
    },
    {
      "cell_type": "code",
      "execution_count": 33,
      "metadata": {},
      "outputs": [
        {
          "name": "stdout",
          "output_type": "stream",
          "text": [
            "is_canceled                          0.080094\n",
            "lead_time                           55.503787\n",
            "arrival_date_year                 2016.042344\n",
            "arrival_date_week_number            27.348814\n",
            "stays_in_weekend_nights              0.729542\n",
            "stays_in_week_nights                 2.243015\n",
            "adults                               1.710915\n",
            "children                             0.035763\n",
            "babies                               0.016764\n",
            "is_repeated_guest                    0.000000\n",
            "previous_cancellations               0.008941\n",
            "previous_bookings_not_canceled       0.099218\n",
            "booking_changes                      0.511983\n",
            "agent                               72.611325\n",
            "days_in_waiting_list                 0.947970\n",
            "adr                                 83.870360\n",
            "required_car_parking_spaces          0.219173\n",
            "total_of_special_requests            0.356265\n",
            "hotel                                1.000000\n",
            "arrival_date_mounth                  5.726686\n",
            "meal                                 0.386564\n",
            "country                            106.673414\n",
            "market_segment                       2.967466\n",
            "distribution_channel                 0.780454\n",
            "reserved_room_type                   2.366447\n",
            "assingned_room                       2.366447\n",
            "deposit_type                         0.000373\n",
            "custumer_type                        2.300882\n",
            "reservation_status                   0.943748\n",
            "Grupo                                3.000000\n",
            "dtype: float64\n"
          ]
        }
      ],
      "source": [
        "mean_city = df_grupo_city.loc[df_grupo_city.Grupo == 3].mean()\n",
        "print(mean_city)"
      ]
    },
    {
      "cell_type": "code",
      "execution_count": 34,
      "metadata": {},
      "outputs": [
        {
          "name": "stdout",
          "output_type": "stream",
          "text": [
            "is_canceled                          1.000000\n",
            "lead_time                          125.239626\n",
            "arrival_date_year                 2016.212421\n",
            "arrival_date_week_number            27.896675\n",
            "stays_in_weekend_nights              1.350646\n",
            "stays_in_week_nights                 3.495878\n",
            "adults                               1.936246\n",
            "children                             0.028442\n",
            "babies                               0.011954\n",
            "is_repeated_guest                    0.002611\n",
            "previous_cancellations               0.056746\n",
            "previous_bookings_not_canceled       0.001099\n",
            "booking_changes                      0.164193\n",
            "agent                              222.925941\n",
            "days_in_waiting_list                 0.121737\n",
            "adr                                107.502236\n",
            "required_car_parking_spaces          0.000000\n",
            "total_of_special_requests            0.632179\n",
            "hotel                                1.000000\n",
            "arrival_date_mounth                  4.997802\n",
            "meal                                 0.555510\n",
            "country                            108.845837\n",
            "market_segment                       5.433086\n",
            "distribution_channel                 2.797060\n",
            "reserved_room_type                   1.521847\n",
            "assingned_room                       1.521847\n",
            "deposit_type                         0.000000\n",
            "custumer_type                        2.135752\n",
            "reservation_status                   0.000000\n",
            "Grupo                                4.000000\n",
            "dtype: float64\n"
          ]
        }
      ],
      "source": [
        "mean_city = df_grupo_city.loc[df_grupo_city.Grupo == 4].mean()\n",
        "print(mean_city)"
      ]
    },
    {
      "cell_type": "code",
      "execution_count": 35,
      "metadata": {},
      "outputs": [
        {
          "name": "stdout",
          "output_type": "stream",
          "text": [
            "is_canceled                          0.008953\n",
            "lead_time                           73.775560\n",
            "arrival_date_year                 2016.085703\n",
            "arrival_date_week_number            26.930495\n",
            "stays_in_weekend_nights              0.988313\n",
            "stays_in_week_nights                 2.576134\n",
            "adults                               1.873565\n",
            "children                             0.023100\n",
            "babies                               0.015787\n",
            "is_repeated_guest                    0.000000\n",
            "previous_cancellations               0.000478\n",
            "previous_bookings_not_canceled       0.014352\n",
            "booking_changes                      0.241457\n",
            "agent                              221.828458\n",
            "days_in_waiting_list                 0.710156\n",
            "adr                                 88.728824\n",
            "required_car_parking_spaces          0.181042\n",
            "total_of_special_requests            0.838163\n",
            "hotel                                1.000000\n",
            "arrival_date_mounth                  5.162794\n",
            "meal                                 0.543945\n",
            "country                             83.910880\n",
            "market_segment                       5.544697\n",
            "distribution_channel                 2.985921\n",
            "reserved_room_type                   2.003759\n",
            "assingned_room                       2.003759\n",
            "deposit_type                         0.000273\n",
            "custumer_type                        2.227105\n",
            "reservation_status                   1.008953\n",
            "Grupo                                5.000000\n",
            "dtype: float64\n"
          ]
        }
      ],
      "source": [
        "mean_city = df_grupo_city.loc[df_grupo_city.Grupo == 5].mean()\n",
        "print(mean_city)"
      ]
    },
    {
      "cell_type": "code",
      "execution_count": 36,
      "metadata": {},
      "outputs": [
        {
          "name": "stdout",
          "output_type": "stream",
          "text": [
            "is_canceled                          0.052495\n",
            "lead_time                          170.689709\n",
            "arrival_date_year                 2016.112526\n",
            "arrival_date_week_number            28.588877\n",
            "stays_in_weekend_nights              2.909304\n",
            "stays_in_week_nights                 7.119283\n",
            "adults                               2.061331\n",
            "children                             0.026507\n",
            "babies                               0.009356\n",
            "is_repeated_guest                    0.005198\n",
            "previous_cancellations               0.004418\n",
            "previous_bookings_not_canceled       0.012474\n",
            "booking_changes                      0.266632\n",
            "agent                              143.770010\n",
            "days_in_waiting_list                 0.079002\n",
            "adr                                 87.161333\n",
            "required_car_parking_spaces          0.037422\n",
            "total_of_special_requests            0.589657\n",
            "hotel                                1.000000\n",
            "arrival_date_mounth                  6.031445\n",
            "meal                                 0.787942\n",
            "country                             71.859927\n",
            "market_segment                       5.012734\n",
            "distribution_channel                 2.884875\n",
            "reserved_room_type                   2.117204\n",
            "assingned_room                       2.117204\n",
            "deposit_type                         0.001040\n",
            "custumer_type                        1.173597\n",
            "reservation_status                   0.958940\n",
            "Grupo                                6.000000\n",
            "dtype: float64\n"
          ]
        }
      ],
      "source": [
        "mean_city = df_grupo_city.loc[df_grupo_city.Grupo == 6].mean()\n",
        "print(mean_city)"
      ]
    }
  ],
  "metadata": {
    "colab": {
      "provenance": []
    },
    "kernelspec": {
      "display_name": "Python 3",
      "language": "python",
      "name": "python3"
    },
    "language_info": {
      "codemirror_mode": {
        "name": "ipython",
        "version": 3
      },
      "file_extension": ".py",
      "mimetype": "text/x-python",
      "name": "python",
      "nbconvert_exporter": "python",
      "pygments_lexer": "ipython3",
      "version": "3.8.10"
    }
  },
  "nbformat": 4,
  "nbformat_minor": 0
}
